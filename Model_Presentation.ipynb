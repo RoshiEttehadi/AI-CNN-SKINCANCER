{
  "nbformat": 4,
  "nbformat_minor": 0,
  "metadata": {
    "colab": {
      "provenance": [],
      "authorship_tag": "ABX9TyNnqCj0FX9Zxny/D5Molqtp",
      "include_colab_link": true
    },
    "kernelspec": {
      "name": "python3",
      "display_name": "Python 3"
    },
    "language_info": {
      "name": "python"
    }
  },
  "cells": [
    {
      "cell_type": "markdown",
      "metadata": {
        "id": "view-in-github",
        "colab_type": "text"
      },
      "source": [
        "<a href=\"https://colab.research.google.com/github/RoshiEttehadi/AI-CNN-SKINCANCER/blob/main/Model_Presentation.ipynb\" target=\"_parent\"><img src=\"https://colab.research.google.com/assets/colab-badge.svg\" alt=\"Open In Colab\"/></a>"
      ]
    },
    {
      "cell_type": "code",
      "execution_count": null,
      "metadata": {
        "colab": {
          "base_uri": "https://localhost:8080/"
        },
        "id": "ZuxHMOwG_A25",
        "outputId": "cf1aa5f0-6f41-4271-a44b-12ebaa5b5ef6"
      },
      "outputs": [
        {
          "output_type": "stream",
          "name": "stdout",
          "text": [
            "Mounted at /content/gdrive\n"
          ]
        }
      ],
      "source": [
        "from google.colab import drive\n",
        "drive.mount('/content/gdrive', force_remount=True)"
      ]
    },
    {
      "cell_type": "code",
      "source": [
        "import os\n",
        "import tensorflow as tf\n",
        "from tensorflow.keras.models import Model\n",
        "from tensorflow.keras.layers import Dense, Flatten, Dropout, Input\n",
        "from tensorflow.keras.applications import VGG16\n",
        "from tensorflow.keras.preprocessing.image import load_img, img_to_array\n",
        "import numpy as np\n",
        "\n",
        "def create_and_load_model(weights_path):\n",
        "    \"\"\"\n",
        "    Recreate the model architecture and load weights\n",
        "    \"\"\"\n",
        "    # Create base model\n",
        "    base_model = VGG16(\n",
        "        include_top=False,\n",
        "        input_shape=(224, 224, 3),\n",
        "        weights='imagenet'\n",
        "    )\n",
        "    base_model.trainable = False\n",
        "\n",
        "    # Recreate the model architecture\n",
        "    inputs = Input(shape=(224, 224, 3))\n",
        "    x = base_model(inputs)\n",
        "    x = Flatten()(x)\n",
        "    x = Dense(128, activation='relu')(x)\n",
        "    x = Dropout(0.5)(x)\n",
        "    x = Dense(64, activation='relu')(x)\n",
        "    outputs = Dense(1, activation='sigmoid')(x)\n",
        "\n",
        "    model = Model(inputs=inputs, outputs=outputs)\n",
        "\n",
        "    # Load weights if they exist\n",
        "    if os.path.exists(weights_path):\n",
        "        try:\n",
        "            model.load_weights(weights_path)\n",
        "            print(\"Model weights loaded successfully!\")\n",
        "        except Exception as e:\n",
        "            print(f\"Error loading weights: {str(e)}\")\n",
        "    else:\n",
        "        raise FileNotFoundError(f\"Weights file not found at {weights_path}\")\n",
        "\n",
        "    # Compile model\n",
        "    model.compile(\n",
        "        optimizer=tf.keras.optimizers.Adam(learning_rate=1e-4),\n",
        "        loss='binary_crossentropy',\n",
        "        metrics=['accuracy']\n",
        "    )\n",
        "\n",
        "    return model\n",
        "\n",
        "def predict_single_image(model, image_path):\n",
        "    \"\"\"\n",
        "    Make prediction for a single image\n",
        "    \"\"\"\n",
        "    try:\n",
        "        # Load and preprocess the image\n",
        "        img = load_img(image_path, target_size=(224, 224))\n",
        "        img_array = img_to_array(img)\n",
        "        img_array = img_array / 255.0  # Normalize\n",
        "        img_array = np.expand_dims(img_array, axis=0)  # Add batch dimension\n",
        "\n",
        "        # Make prediction\n",
        "        prediction = model.predict(img_array, verbose=0)\n",
        "        probability = prediction[0][0]\n",
        "        classification = 'Malignant' if probability > 0.5 else 'Benign'\n",
        "\n",
        "        return classification, probability\n",
        "    except Exception as e:\n",
        "        print(f\"Error processing image {image_path}: {str(e)}\")\n",
        "        return None, None\n",
        "\n",
        "def test_model_on_folder(model, test_folder):\n",
        "    \"\"\"\n",
        "    Test the model on all images in a folder\n",
        "    \"\"\"\n",
        "    if not os.path.exists(test_folder):\n",
        "        raise FileNotFoundError(f\"Test folder not found at {test_folder}\")\n",
        "\n",
        "    results = []\n",
        "    for filename in os.listdir(test_folder):\n",
        "        if filename.lower().endswith(('.png', '.jpg', '.jpeg')):\n",
        "            image_path = os.path.join(test_folder, filename)\n",
        "            classification, probability = predict_single_image(model, image_path)\n",
        "\n",
        "            if classification and probability is not None:\n",
        "                results.append({\n",
        "                    'image': filename,\n",
        "                    'classification': classification,\n",
        "                    'probability': float(probability)\n",
        "                })\n",
        "\n",
        "    return results\n",
        "\n",
        "def main():\n",
        "    # Define paths\n",
        "    DRIVE_BASE = '/content/gdrive/MyDrive'\n",
        "    MODEL_PATH = os.path.join(DRIVE_BASE, 'models')\n",
        "    WEIGHTS_PATH = os.path.join(MODEL_PATH, 'model_weights.weights.h5')\n",
        "    TEST_PATH = os.path.join(DRIVE_BASE, 'datasets', 'Test')\n",
        "\n",
        "    try:\n",
        "        # Create model and load weights\n",
        "        print(\"Loading model...\")\n",
        "        model = create_and_load_model(WEIGHTS_PATH)\n",
        "\n",
        "        # Test on folder if it exists\n",
        "        if os.path.exists(TEST_PATH):\n",
        "            print(\"\\nTesting model on folder...\")\n",
        "            results = test_model_on_folder(model, TEST_PATH)\n",
        "\n",
        "            # Print results\n",
        "            print(\"\\nResults:\")\n",
        "            for result in results:\n",
        "                print(f\"Image: {result['image']}\")\n",
        "                print(f\"Classification: {result['classification']}\")\n",
        "                print(f\"Probability: {result['probability']:.2%}\")\n",
        "                print(\"-\" * 50)\n",
        "        else:\n",
        "            print(f\"Test folder not found at {TEST_PATH}\")\n",
        "\n",
        "    except Exception as e:\n",
        "        print(f\"An error occurred: {str(e)}\")\n",
        "        raise\n",
        "\n",
        "if __name__ == \"__main__\":\n",
        "    main()"
      ],
      "metadata": {
        "id": "W42AqMkFCC1m",
        "colab": {
          "base_uri": "https://localhost:8080/"
        },
        "outputId": "0ea71322-ccdd-40a0-d800-a4910cfcff3f"
      },
      "execution_count": null,
      "outputs": [
        {
          "output_type": "stream",
          "name": "stdout",
          "text": [
            "Loading model...\n",
            "Model weights loaded successfully!\n",
            "\n",
            "Testing model on folder...\n",
            "\n",
            "Results:\n",
            "Image: ISIC_4576846.jpg\n",
            "Classification: Malignant\n",
            "Probability: 81.70%\n",
            "--------------------------------------------------\n",
            "Image: ISIC_7545363.jpg\n",
            "Classification: Malignant\n",
            "Probability: 70.00%\n",
            "--------------------------------------------------\n",
            "Image: ISIC_7547657.jpg\n",
            "Classification: Benign\n",
            "Probability: 28.39%\n",
            "--------------------------------------------------\n",
            "Image: ISIC_4575019.jpg\n",
            "Classification: Benign\n",
            "Probability: 42.05%\n",
            "--------------------------------------------------\n",
            "Image: ISIC_2412113.jpg\n",
            "Classification: Malignant\n",
            "Probability: 72.59%\n",
            "--------------------------------------------------\n",
            "Image: ISIC_2427899.jpg\n",
            "Classification: Malignant\n",
            "Probability: 90.43%\n",
            "--------------------------------------------------\n",
            "Image: ISIC_0046773.jpg\n",
            "Classification: Malignant\n",
            "Probability: 90.38%\n",
            "--------------------------------------------------\n",
            "Image: ISIC_0046741.jpg\n",
            "Classification: Malignant\n",
            "Probability: 71.60%\n",
            "--------------------------------------------------\n"
          ]
        }
      ]
    }
  ]
}